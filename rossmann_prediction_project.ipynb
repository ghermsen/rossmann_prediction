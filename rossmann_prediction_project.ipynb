{
 "cells": [
  {
   "cell_type": "code",
   "execution_count": 73,
   "id": "071a7ac8",
   "metadata": {
    "ExecuteTime": {
     "end_time": "2021-05-10T10:38:07.734056Z",
     "start_time": "2021-05-10T10:38:00.369402Z"
    }
   },
   "outputs": [
    {
     "name": "stdout",
     "output_type": "stream",
     "text": [
      "Collecting seaborn\n",
      "  Downloading seaborn-0.11.1-py3-none-any.whl (285 kB)\n",
      "Requirement already satisfied: numpy>=1.15 in c:\\users\\gabriel\\anaconda3\\envs\\rossmann\\lib\\site-packages (from seaborn) (1.20.2)\n",
      "Requirement already satisfied: pandas>=0.23 in c:\\users\\gabriel\\anaconda3\\envs\\rossmann\\lib\\site-packages (from seaborn) (1.2.4)\n",
      "Collecting scipy>=1.0\n",
      "  Downloading scipy-1.6.3-cp38-cp38-win_amd64.whl (32.7 MB)\n",
      "Collecting matplotlib>=2.2\n",
      "  Downloading matplotlib-3.4.2-cp38-cp38-win_amd64.whl (7.1 MB)\n",
      "Collecting kiwisolver>=1.0.1\n",
      "  Downloading kiwisolver-1.3.1-cp38-cp38-win_amd64.whl (51 kB)\n",
      "Requirement already satisfied: pyparsing>=2.2.1 in c:\\users\\gabriel\\anaconda3\\envs\\rossmann\\lib\\site-packages (from matplotlib>=2.2->seaborn) (2.4.7)\n",
      "Collecting cycler>=0.10\n",
      "  Downloading cycler-0.10.0-py2.py3-none-any.whl (6.5 kB)\n",
      "Requirement already satisfied: python-dateutil>=2.7 in c:\\users\\gabriel\\anaconda3\\envs\\rossmann\\lib\\site-packages (from matplotlib>=2.2->seaborn) (2.8.1)\n",
      "Collecting pillow>=6.2.0\n",
      "  Using cached Pillow-8.2.0-cp38-cp38-win_amd64.whl (2.2 MB)\n",
      "Requirement already satisfied: six in c:\\users\\gabriel\\anaconda3\\envs\\rossmann\\lib\\site-packages (from cycler>=0.10->matplotlib>=2.2->seaborn) (1.15.0)\n",
      "Requirement already satisfied: pytz>=2017.3 in c:\\users\\gabriel\\anaconda3\\envs\\rossmann\\lib\\site-packages (from pandas>=0.23->seaborn) (2021.1)\n",
      "Installing collected packages: pillow, kiwisolver, cycler, scipy, matplotlib, seaborn\n",
      "Successfully installed cycler-0.10.0 kiwisolver-1.3.1 matplotlib-3.4.2 pillow-8.2.0 scipy-1.6.3 seaborn-0.11.1\n"
     ]
    }
   ],
   "source": [
    "!pip install seaborn"
   ]
  },
  {
   "cell_type": "markdown",
   "id": "a9db9cc6",
   "metadata": {},
   "source": [
    "# 0.0 IMPORTS"
   ]
  },
  {
   "cell_type": "code",
   "execution_count": 85,
   "id": "e44c9ab2",
   "metadata": {
    "ExecuteTime": {
     "end_time": "2021-05-10T10:42:31.146398Z",
     "start_time": "2021-05-10T10:42:31.129404Z"
    }
   },
   "outputs": [],
   "source": [
    "import pandas as pd\n",
    "import inflection\n",
    "import math\n",
    "import numpy as np\n",
    "import seaborn as sns\n",
    "import warnings\n",
    "warnings.filterwarnings('ignore')\n",
    "\n",
    "from IPython.core.display  import HTML\n",
    "from IPython.display       import Image"
   ]
  },
  {
   "cell_type": "markdown",
   "id": "6ed7b87a",
   "metadata": {},
   "source": [
    "## 0.1 Helper Functions"
   ]
  },
  {
   "cell_type": "code",
   "execution_count": 76,
   "id": "577e662a",
   "metadata": {
    "ExecuteTime": {
     "end_time": "2021-05-10T10:39:43.174974Z",
     "start_time": "2021-05-10T10:39:43.162021Z"
    }
   },
   "outputs": [],
   "source": [
    "def jupyter_settings():\n",
    "    %matplotlib inline\n",
    "    %pylab inline\n",
    "    \n",
    "    plt.style.use( 'bmh' )\n",
    "    plt.rcParams['figure.figsize'] = [25, 12]\n",
    "    plt.rcParams['font.size'] = 24\n",
    "    \n",
    "    display( HTML( '<style>.container { width:100% !important; }</style>') )\n",
    "    pd.options.display.max_columns = None\n",
    "    pd.options.display.max_rows = None\n",
    "    pd.set_option( 'display.expand_frame_repr', False )\n",
    "    \n",
    "    sns.set()"
   ]
  },
  {
   "cell_type": "code",
   "execution_count": 81,
   "id": "27166064",
   "metadata": {
    "ExecuteTime": {
     "end_time": "2021-05-10T10:41:07.017575Z",
     "start_time": "2021-05-10T10:41:07.000650Z"
    }
   },
   "outputs": [
    {
     "name": "stdout",
     "output_type": "stream",
     "text": [
      "Populating the interactive namespace from numpy and matplotlib\n"
     ]
    },
    {
     "data": {
      "text/html": [
       "<style>.container { width:100% !important; }</style>"
      ],
      "text/plain": [
       "<IPython.core.display.HTML object>"
      ]
     },
     "metadata": {},
     "output_type": "display_data"
    }
   ],
   "source": [
    "jupyter_settings()"
   ]
  },
  {
   "cell_type": "markdown",
   "id": "c65b175a",
   "metadata": {},
   "source": [
    "## 0.2 Loading Data"
   ]
  },
  {
   "cell_type": "code",
   "execution_count": 4,
   "id": "06be9fad",
   "metadata": {
    "ExecuteTime": {
     "end_time": "2021-05-10T09:05:25.047718Z",
     "start_time": "2021-05-10T09:05:24.351661Z"
    }
   },
   "outputs": [],
   "source": [
    "# loading datasets\n",
    "\n",
    "df_sales_raw = pd.read_csv('data/train.csv', low_memory = False)\n",
    "df_store_raw = pd.read_csv('data/store.csv', low_memory = False)\n",
    "\n",
    "# merging datasets\n",
    "\n",
    "df_raw = pd.merge(df_sales_raw, df_store_raw, how = 'left', on = 'Store')"
   ]
  },
  {
   "cell_type": "markdown",
   "id": "51c368f0",
   "metadata": {},
   "source": [
    "# 1.0 DESCRIÇÃO DOS DADOS"
   ]
  },
  {
   "cell_type": "code",
   "execution_count": 46,
   "id": "f8817c60",
   "metadata": {
    "ExecuteTime": {
     "end_time": "2021-05-10T10:06:04.248740Z",
     "start_time": "2021-05-10T10:06:04.205871Z"
    }
   },
   "outputs": [],
   "source": [
    "df1 = df_raw.copy()"
   ]
  },
  {
   "cell_type": "markdown",
   "id": "8246f65c",
   "metadata": {
    "heading_collapsed": true
   },
   "source": [
    "## 1.1 Rename Columns"
   ]
  },
  {
   "cell_type": "code",
   "execution_count": 47,
   "id": "5b4ea2fb",
   "metadata": {
    "ExecuteTime": {
     "end_time": "2021-05-10T10:06:04.904298Z",
     "start_time": "2021-05-10T10:06:04.888730Z"
    },
    "hidden": true
   },
   "outputs": [],
   "source": [
    "# original name of the columns\n",
    "\n",
    "cols_old = ['Store', 'DayOfWeek', 'Date', 'Sales', 'Customers', 'Open', 'Promo',\n",
    "            'StateHoliday', 'SchoolHoliday', 'StoreType', 'Assortment',\n",
    "            'CompetitionDistance', 'CompetitionOpenSinceMonth',\n",
    "            'CompetitionOpenSinceYear', 'Promo2', 'Promo2SinceWeek',\n",
    "            'Promo2SinceYear', 'PromoInterval']\n",
    "\n",
    "# using inflection to create the new cols\n",
    "\n",
    "snake_case = lambda x: inflection.underscore(x)\n",
    "\n",
    "cols_new = list(map(snake_case, cols_old))\n",
    "\n",
    "# renaming the cols\n",
    "\n",
    "df1.columns = cols_new"
   ]
  },
  {
   "cell_type": "markdown",
   "id": "694df4ff",
   "metadata": {
    "heading_collapsed": true
   },
   "source": [
    "## 1.2 - Data Dimension"
   ]
  },
  {
   "cell_type": "code",
   "execution_count": 48,
   "id": "3b98cdcc",
   "metadata": {
    "ExecuteTime": {
     "end_time": "2021-05-10T10:06:05.636150Z",
     "start_time": "2021-05-10T10:06:05.624183Z"
    },
    "hidden": true
   },
   "outputs": [
    {
     "name": "stdout",
     "output_type": "stream",
     "text": [
      "Number of rows:\t\t 1017209\n",
      "Number of columns:\t 18\n"
     ]
    }
   ],
   "source": [
    "# dataset's size\n",
    "\n",
    "print(f'Number of rows:\\t\\t {df1.shape[0]}')\n",
    "print(f'Number of columns:\\t {df1.shape[1]}')"
   ]
  },
  {
   "cell_type": "markdown",
   "id": "a7eed0cc",
   "metadata": {
    "heading_collapsed": true
   },
   "source": [
    "## 1.3 - Data Types"
   ]
  },
  {
   "cell_type": "code",
   "execution_count": 49,
   "id": "b13a947e",
   "metadata": {
    "ExecuteTime": {
     "end_time": "2021-05-10T10:06:06.663391Z",
     "start_time": "2021-05-10T10:06:06.560963Z"
    },
    "hidden": true
   },
   "outputs": [
    {
     "data": {
      "text/plain": [
       "store                                    int64\n",
       "day_of_week                              int64\n",
       "date                            datetime64[ns]\n",
       "sales                                    int64\n",
       "customers                                int64\n",
       "open                                     int64\n",
       "promo                                    int64\n",
       "state_holiday                           object\n",
       "school_holiday                           int64\n",
       "store_type                              object\n",
       "assortment                              object\n",
       "competition_distance                   float64\n",
       "competition_open_since_month           float64\n",
       "competition_open_since_year            float64\n",
       "promo2                                   int64\n",
       "promo2_since_week                      float64\n",
       "promo2_since_year                      float64\n",
       "promo_interval                          object\n",
       "dtype: object"
      ]
     },
     "execution_count": 49,
     "metadata": {},
     "output_type": "execute_result"
    }
   ],
   "source": [
    "# transforming date to datetime\n",
    "\n",
    "df1['date'] = pd.to_datetime(df1['date'])\n",
    "df1.dtypes"
   ]
  },
  {
   "cell_type": "markdown",
   "id": "f9c76f9a",
   "metadata": {
    "heading_collapsed": true
   },
   "source": [
    "## 1.4 - Check NAs"
   ]
  },
  {
   "cell_type": "code",
   "execution_count": 50,
   "id": "156f90bf",
   "metadata": {
    "ExecuteTime": {
     "end_time": "2021-05-10T10:06:07.782042Z",
     "start_time": "2021-05-10T10:06:07.664966Z"
    },
    "hidden": true
   },
   "outputs": [
    {
     "data": {
      "text/plain": [
       "store                                0\n",
       "promo2                               0\n",
       "assortment                           0\n",
       "store_type                           0\n",
       "state_holiday                        0\n",
       "promo                                0\n",
       "school_holiday                       0\n",
       "customers                            0\n",
       "sales                                0\n",
       "date                                 0\n",
       "day_of_week                          0\n",
       "open                                 0\n",
       "competition_distance              2642\n",
       "competition_open_since_month    323348\n",
       "competition_open_since_year     323348\n",
       "promo2_since_year               508031\n",
       "promo2_since_week               508031\n",
       "promo_interval                  508031\n",
       "dtype: int64"
      ]
     },
     "execution_count": 50,
     "metadata": {},
     "output_type": "execute_result"
    }
   ],
   "source": [
    "df1.isna().sum().sort_values()"
   ]
  },
  {
   "cell_type": "markdown",
   "id": "ae596161",
   "metadata": {
    "heading_collapsed": true
   },
   "source": [
    "## 1.5 Fill Out NAs"
   ]
  },
  {
   "cell_type": "code",
   "execution_count": 51,
   "id": "a312f7fc",
   "metadata": {
    "ExecuteTime": {
     "end_time": "2021-05-10T10:06:57.571133Z",
     "start_time": "2021-05-10T10:06:08.777890Z"
    },
    "hidden": true
   },
   "outputs": [],
   "source": [
    "# competition_distance\n",
    "\n",
    "max_value = df1['competition_distance'].max()\n",
    "\n",
    "df1['competition_distance'] = df1['competition_distance'].apply(lambda x: max_value * 2 if math.isnan(x) else x)\n",
    "\n",
    "# competition_open_since_month\n",
    "\n",
    "df1['competition_open_since_month'] = df1.apply(lambda x: x['date'].month if math.isnan(x['competition_open_since_month']) else x['competition_open_since_month'], axis = 1)\n",
    "\n",
    "# competition_open_since_year \n",
    "\n",
    "df1['competition_open_since_year'] = df1.apply(lambda x: x['date'].year if math.isnan(x['competition_open_since_year']) else x['competition_open_since_year'], axis = 1)\n",
    "\n",
    "# promo2_since_week  \n",
    "\n",
    "df1['promo2_since_week'] = df1.apply(lambda x: x['date'].week if math.isnan(x['promo2_since_week']) else x['promo2_since_week'], axis = 1)\n",
    "\n",
    "# promo2_since_year\n",
    "\n",
    "df1['promo2_since_year'] = df1.apply(lambda x: x['date'].year if math.isnan(x['promo2_since_year']) else x['promo2_since_year'], axis = 1)\n",
    "\n",
    "# promo_interval           \n",
    "\n",
    "month_map = {1:'Jan',\n",
    "             2:'Feb',\n",
    "             3:'Mar',\n",
    "             4:'Apr',\n",
    "             5:'Mai',\n",
    "             6:'Jun',\n",
    "             7:'Jul',\n",
    "             8:'Aug',\n",
    "             9:'Sep',\n",
    "             10:'Oct',\n",
    "             11:'Nov',\n",
    "             12:'Dec'}\n",
    "\n",
    "df1['promo_interval'].fillna(0, inplace = True)\n",
    "\n",
    "df1['month_map'] = df1['date'].dt.month.map(month_map)\n",
    "\n",
    "df1['is_promo'] = df1[['promo_interval', 'month_map']].apply(lambda x: 0 if x['promo_interval'] == 0 else 1 if x['month_map'] in x['promo_interval'].split(',') else 0, axis = 1)"
   ]
  },
  {
   "cell_type": "code",
   "execution_count": 55,
   "id": "5027b914",
   "metadata": {
    "ExecuteTime": {
     "end_time": "2021-05-10T10:08:41.062196Z",
     "start_time": "2021-05-10T10:08:40.920638Z"
    },
    "hidden": true
   },
   "outputs": [
    {
     "data": {
      "text/plain": [
       "store                           0\n",
       "day_of_week                     0\n",
       "date                            0\n",
       "sales                           0\n",
       "customers                       0\n",
       "open                            0\n",
       "promo                           0\n",
       "state_holiday                   0\n",
       "school_holiday                  0\n",
       "store_type                      0\n",
       "assortment                      0\n",
       "competition_distance            0\n",
       "competition_open_since_month    0\n",
       "competition_open_since_year     0\n",
       "promo2                          0\n",
       "promo2_since_week               0\n",
       "promo2_since_year               0\n",
       "promo_interval                  0\n",
       "month_map                       0\n",
       "is_promo                        0\n",
       "dtype: int64"
      ]
     },
     "execution_count": 55,
     "metadata": {},
     "output_type": "execute_result"
    }
   ],
   "source": [
    "df1.isna().sum()"
   ]
  },
  {
   "cell_type": "markdown",
   "id": "8fd5288a",
   "metadata": {
    "heading_collapsed": true
   },
   "source": [
    "## 1.6 Change Types"
   ]
  },
  {
   "cell_type": "code",
   "execution_count": 57,
   "id": "48c2fa54",
   "metadata": {
    "ExecuteTime": {
     "end_time": "2021-05-10T10:20:19.961708Z",
     "start_time": "2021-05-10T10:20:19.917624Z"
    },
    "hidden": true
   },
   "outputs": [],
   "source": [
    "# changing the variable type from float to int\n",
    "\n",
    "df1['competition_open_since_month'] = df1['competition_open_since_month'].astype(int)\n",
    "\n",
    "df1['competition_open_since_year'] = df1['competition_open_since_year'].astype(int)\n",
    "\n",
    "df1['promo2_since_week'] = df1['promo2_since_week'].astype(int)\n",
    "\n",
    "df1['promo2_since_year'] = df1['promo2_since_year'].astype(int)"
   ]
  },
  {
   "cell_type": "markdown",
   "id": "b9425572",
   "metadata": {
    "heading_collapsed": true
   },
   "source": [
    "## 1.7 Descriptive Statistics"
   ]
  },
  {
   "cell_type": "markdown",
   "id": "f4a64c38",
   "metadata": {
    "hidden": true
   },
   "source": [
    "Serve para duas coisas: 1 ganhar conhecimento de negocios, e a segunda é para a detecção de alguns erros. Existem duas grandes métricas. Disperção e tendencia central. \n",
    "\n",
    "Tendencia Central resumem os dados em um único número, exemplo média, mediana e etc.\n",
    "As medidas de disperção irão nos mostram o quão exparso os dados estão dessas medidas, para mnostrar o quão distante ou proximo os dados estão das medias.\n",
    "\n",
    "skew fala a deformação da distribuição normal, esquerda positiva, direita negativa\n",
    "\n",
    "kurtosi quanto maior a curtosi a pico é alto, menor o pico curtosi negativa e dados dispersos."
   ]
  },
  {
   "cell_type": "code",
   "execution_count": 61,
   "id": "65a64c89",
   "metadata": {
    "ExecuteTime": {
     "end_time": "2021-05-10T10:27:36.987114Z",
     "start_time": "2021-05-10T10:27:36.969162Z"
    },
    "hidden": true
   },
   "outputs": [
    {
     "data": {
      "text/plain": [
       "store                                    int64\n",
       "day_of_week                              int64\n",
       "date                            datetime64[ns]\n",
       "sales                                    int64\n",
       "customers                                int64\n",
       "open                                     int64\n",
       "promo                                    int64\n",
       "state_holiday                           object\n",
       "school_holiday                           int64\n",
       "store_type                              object\n",
       "assortment                              object\n",
       "competition_distance                   float64\n",
       "competition_open_since_month             int32\n",
       "competition_open_since_year              int32\n",
       "promo2                                   int64\n",
       "promo2_since_week                        int32\n",
       "promo2_since_year                        int32\n",
       "promo_interval                          object\n",
       "month_map                               object\n",
       "is_promo                                 int64\n",
       "dtype: object"
      ]
     },
     "execution_count": 61,
     "metadata": {},
     "output_type": "execute_result"
    }
   ],
   "source": [
    "df1.dtypes"
   ]
  },
  {
   "cell_type": "code",
   "execution_count": 62,
   "id": "9b51ecad",
   "metadata": {
    "ExecuteTime": {
     "end_time": "2021-05-10T10:28:25.551297Z",
     "start_time": "2021-05-10T10:28:25.464961Z"
    },
    "hidden": true
   },
   "outputs": [],
   "source": [
    "num_att = df1.select_dtypes(include = ['int32', 'int64', 'float64'])\n",
    "\n",
    "cat_att = df1.select_dtypes(exclude = ['int32', 'int64', 'float64', 'datetime64[ns]'])"
   ]
  },
  {
   "cell_type": "markdown",
   "id": "3b304869",
   "metadata": {
    "hidden": true
   },
   "source": [
    "### 1.7.1 - Nummerical Attributes"
   ]
  },
  {
   "cell_type": "code",
   "execution_count": 70,
   "id": "99805d21",
   "metadata": {
    "ExecuteTime": {
     "end_time": "2021-05-10T10:36:32.233523Z",
     "start_time": "2021-05-10T10:36:30.122901Z"
    },
    "hidden": true
   },
   "outputs": [],
   "source": [
    "# central tendency - mean, median\n",
    "\n",
    "ct1 = pd.DataFrame(num_att.apply(np.mean)).T\n",
    "\n",
    "ct2 = pd.DataFrame(num_att.apply(np.median)).T\n",
    "\n",
    "# dispersion - standard deviation, min, max, range, skew, kurtosis\n",
    "\n",
    "d1 = pd.DataFrame(num_att.apply(np.std)).T\n",
    "\n",
    "d2 = pd.DataFrame(num_att.apply(min)).T\n",
    "\n",
    "d3 = pd.DataFrame(num_att.apply(max)).T\n",
    "\n",
    "d4 = pd.DataFrame(num_att.apply(lambda x: x.max() - x.min())).T\n",
    "\n",
    "d5 = pd.DataFrame(num_att.apply(lambda x: x.skew())).T\n",
    "\n",
    "d6 = pd.DataFrame(num_att.apply(lambda x: x.kurtosis())).T\n",
    "\n",
    "# concatenate\n",
    "\n",
    "m = pd.concat((d2, d3, d4, ct1, ct2, d1, d5, d6)).T.reset_index()\n",
    "\n",
    "m.columns = ['attributes', 'min', 'max', 'range', 'mean', 'median', 'std', 'skew', 'kurtosis']\n",
    "\n",
    "m"
   ]
  },
  {
   "cell_type": "code",
   "execution_count": 71,
   "id": "93af00ea",
   "metadata": {
    "ExecuteTime": {
     "end_time": "2021-05-10T10:36:37.021915Z",
     "start_time": "2021-05-10T10:36:37.008949Z"
    },
    "hidden": true
   },
   "outputs": [
    {
     "data": {
      "text/html": [
       "<div>\n",
       "<style scoped>\n",
       "    .dataframe tbody tr th:only-of-type {\n",
       "        vertical-align: middle;\n",
       "    }\n",
       "\n",
       "    .dataframe tbody tr th {\n",
       "        vertical-align: top;\n",
       "    }\n",
       "\n",
       "    .dataframe thead th {\n",
       "        text-align: right;\n",
       "    }\n",
       "</style>\n",
       "<table border=\"1\" class=\"dataframe\">\n",
       "  <thead>\n",
       "    <tr style=\"text-align: right;\">\n",
       "      <th></th>\n",
       "      <th>attributes</th>\n",
       "      <th>min</th>\n",
       "      <th>max</th>\n",
       "      <th>range</th>\n",
       "      <th>mean</th>\n",
       "      <th>median</th>\n",
       "      <th>std</th>\n",
       "      <th>skew</th>\n",
       "      <th>kurtosis</th>\n",
       "    </tr>\n",
       "  </thead>\n",
       "  <tbody>\n",
       "    <tr>\n",
       "      <th>0</th>\n",
       "      <td>store</td>\n",
       "      <td>1.0</td>\n",
       "      <td>1115.0</td>\n",
       "      <td>1114.0</td>\n",
       "      <td>558.429727</td>\n",
       "      <td>558.0</td>\n",
       "      <td>321.908493</td>\n",
       "      <td>-0.000955</td>\n",
       "      <td>-1.200524</td>\n",
       "    </tr>\n",
       "    <tr>\n",
       "      <th>1</th>\n",
       "      <td>day_of_week</td>\n",
       "      <td>1.0</td>\n",
       "      <td>7.0</td>\n",
       "      <td>6.0</td>\n",
       "      <td>3.998341</td>\n",
       "      <td>4.0</td>\n",
       "      <td>1.997390</td>\n",
       "      <td>0.001593</td>\n",
       "      <td>-1.246873</td>\n",
       "    </tr>\n",
       "    <tr>\n",
       "      <th>2</th>\n",
       "      <td>sales</td>\n",
       "      <td>0.0</td>\n",
       "      <td>41551.0</td>\n",
       "      <td>41551.0</td>\n",
       "      <td>5773.818972</td>\n",
       "      <td>5744.0</td>\n",
       "      <td>3849.924283</td>\n",
       "      <td>0.641460</td>\n",
       "      <td>1.778375</td>\n",
       "    </tr>\n",
       "    <tr>\n",
       "      <th>3</th>\n",
       "      <td>customers</td>\n",
       "      <td>0.0</td>\n",
       "      <td>7388.0</td>\n",
       "      <td>7388.0</td>\n",
       "      <td>633.145946</td>\n",
       "      <td>609.0</td>\n",
       "      <td>464.411506</td>\n",
       "      <td>1.598650</td>\n",
       "      <td>7.091773</td>\n",
       "    </tr>\n",
       "    <tr>\n",
       "      <th>4</th>\n",
       "      <td>open</td>\n",
       "      <td>0.0</td>\n",
       "      <td>1.0</td>\n",
       "      <td>1.0</td>\n",
       "      <td>0.830107</td>\n",
       "      <td>1.0</td>\n",
       "      <td>0.375539</td>\n",
       "      <td>-1.758045</td>\n",
       "      <td>1.090723</td>\n",
       "    </tr>\n",
       "    <tr>\n",
       "      <th>5</th>\n",
       "      <td>promo</td>\n",
       "      <td>0.0</td>\n",
       "      <td>1.0</td>\n",
       "      <td>1.0</td>\n",
       "      <td>0.381515</td>\n",
       "      <td>0.0</td>\n",
       "      <td>0.485758</td>\n",
       "      <td>0.487838</td>\n",
       "      <td>-1.762018</td>\n",
       "    </tr>\n",
       "    <tr>\n",
       "      <th>6</th>\n",
       "      <td>school_holiday</td>\n",
       "      <td>0.0</td>\n",
       "      <td>1.0</td>\n",
       "      <td>1.0</td>\n",
       "      <td>0.178647</td>\n",
       "      <td>0.0</td>\n",
       "      <td>0.383056</td>\n",
       "      <td>1.677842</td>\n",
       "      <td>0.815154</td>\n",
       "    </tr>\n",
       "    <tr>\n",
       "      <th>7</th>\n",
       "      <td>competition_distance</td>\n",
       "      <td>20.0</td>\n",
       "      <td>151720.0</td>\n",
       "      <td>151700.0</td>\n",
       "      <td>5810.044888</td>\n",
       "      <td>2330.0</td>\n",
       "      <td>10715.007635</td>\n",
       "      <td>7.593832</td>\n",
       "      <td>90.447876</td>\n",
       "    </tr>\n",
       "    <tr>\n",
       "      <th>8</th>\n",
       "      <td>competition_open_since_month</td>\n",
       "      <td>1.0</td>\n",
       "      <td>12.0</td>\n",
       "      <td>11.0</td>\n",
       "      <td>6.786849</td>\n",
       "      <td>7.0</td>\n",
       "      <td>3.311085</td>\n",
       "      <td>-0.042076</td>\n",
       "      <td>-1.232607</td>\n",
       "    </tr>\n",
       "    <tr>\n",
       "      <th>9</th>\n",
       "      <td>competition_open_since_year</td>\n",
       "      <td>1900.0</td>\n",
       "      <td>2015.0</td>\n",
       "      <td>115.0</td>\n",
       "      <td>2010.324840</td>\n",
       "      <td>2012.0</td>\n",
       "      <td>5.515591</td>\n",
       "      <td>-7.235657</td>\n",
       "      <td>124.071304</td>\n",
       "    </tr>\n",
       "    <tr>\n",
       "      <th>10</th>\n",
       "      <td>promo2</td>\n",
       "      <td>0.0</td>\n",
       "      <td>1.0</td>\n",
       "      <td>1.0</td>\n",
       "      <td>0.500564</td>\n",
       "      <td>1.0</td>\n",
       "      <td>0.500000</td>\n",
       "      <td>-0.002255</td>\n",
       "      <td>-1.999999</td>\n",
       "    </tr>\n",
       "    <tr>\n",
       "      <th>11</th>\n",
       "      <td>promo2_since_week</td>\n",
       "      <td>1.0</td>\n",
       "      <td>52.0</td>\n",
       "      <td>51.0</td>\n",
       "      <td>23.619033</td>\n",
       "      <td>22.0</td>\n",
       "      <td>14.310057</td>\n",
       "      <td>0.178723</td>\n",
       "      <td>-1.184046</td>\n",
       "    </tr>\n",
       "    <tr>\n",
       "      <th>12</th>\n",
       "      <td>promo2_since_year</td>\n",
       "      <td>2009.0</td>\n",
       "      <td>2015.0</td>\n",
       "      <td>6.0</td>\n",
       "      <td>2012.793297</td>\n",
       "      <td>2013.0</td>\n",
       "      <td>1.662657</td>\n",
       "      <td>-0.784436</td>\n",
       "      <td>-0.210075</td>\n",
       "    </tr>\n",
       "    <tr>\n",
       "      <th>13</th>\n",
       "      <td>is_promo</td>\n",
       "      <td>0.0</td>\n",
       "      <td>1.0</td>\n",
       "      <td>1.0</td>\n",
       "      <td>0.154080</td>\n",
       "      <td>0.0</td>\n",
       "      <td>0.361026</td>\n",
       "      <td>1.916318</td>\n",
       "      <td>1.672276</td>\n",
       "    </tr>\n",
       "  </tbody>\n",
       "</table>\n",
       "</div>"
      ],
      "text/plain": [
       "                      attributes     min       max     range         mean  \\\n",
       "0                          store     1.0    1115.0    1114.0   558.429727   \n",
       "1                    day_of_week     1.0       7.0       6.0     3.998341   \n",
       "2                          sales     0.0   41551.0   41551.0  5773.818972   \n",
       "3                      customers     0.0    7388.0    7388.0   633.145946   \n",
       "4                           open     0.0       1.0       1.0     0.830107   \n",
       "5                          promo     0.0       1.0       1.0     0.381515   \n",
       "6                 school_holiday     0.0       1.0       1.0     0.178647   \n",
       "7           competition_distance    20.0  151720.0  151700.0  5810.044888   \n",
       "8   competition_open_since_month     1.0      12.0      11.0     6.786849   \n",
       "9    competition_open_since_year  1900.0    2015.0     115.0  2010.324840   \n",
       "10                        promo2     0.0       1.0       1.0     0.500564   \n",
       "11             promo2_since_week     1.0      52.0      51.0    23.619033   \n",
       "12             promo2_since_year  2009.0    2015.0       6.0  2012.793297   \n",
       "13                      is_promo     0.0       1.0       1.0     0.154080   \n",
       "\n",
       "    median           std      skew    kurtosis  \n",
       "0    558.0    321.908493 -0.000955   -1.200524  \n",
       "1      4.0      1.997390  0.001593   -1.246873  \n",
       "2   5744.0   3849.924283  0.641460    1.778375  \n",
       "3    609.0    464.411506  1.598650    7.091773  \n",
       "4      1.0      0.375539 -1.758045    1.090723  \n",
       "5      0.0      0.485758  0.487838   -1.762018  \n",
       "6      0.0      0.383056  1.677842    0.815154  \n",
       "7   2330.0  10715.007635  7.593832   90.447876  \n",
       "8      7.0      3.311085 -0.042076   -1.232607  \n",
       "9   2012.0      5.515591 -7.235657  124.071304  \n",
       "10     1.0      0.500000 -0.002255   -1.999999  \n",
       "11    22.0     14.310057  0.178723   -1.184046  \n",
       "12  2013.0      1.662657 -0.784436   -0.210075  \n",
       "13     0.0      0.361026  1.916318    1.672276  "
      ]
     },
     "execution_count": 71,
     "metadata": {},
     "output_type": "execute_result"
    }
   ],
   "source": [
    "m"
   ]
  },
  {
   "cell_type": "code",
   "execution_count": 87,
   "id": "e36460b7",
   "metadata": {
    "ExecuteTime": {
     "end_time": "2021-05-10T10:44:13.845368Z",
     "start_time": "2021-05-10T10:44:08.009314Z"
    },
    "hidden": true
   },
   "outputs": [
    {
     "data": {
      "image/png": "[encoded data removed]",
      "text/plain": [
       "<Figure size 1800x864 with 1 Axes>"
      ]
     },
     "metadata": {},
     "output_type": "display_data"
    }
   ],
   "source": [
    "sns.distplot(df1['competition_distance']);"
   ]
  },
  {
   "cell_type": "markdown",
   "id": "30c62e54",
   "metadata": {
    "hidden": true
   },
   "source": [
    "### 1.7.2 - Categorical Attributes"
   ]
  },
  {
   "cell_type": "code",
   "execution_count": 88,
   "id": "58ece7e4",
   "metadata": {
    "ExecuteTime": {
     "end_time": "2021-05-10T10:52:00.903285Z",
     "start_time": "2021-05-10T10:52:00.760636Z"
    },
    "hidden": true
   },
   "outputs": [
    {
     "data": {
      "text/plain": [
       "state_holiday      4\n",
       "store_type         4\n",
       "assortment         3\n",
       "promo_interval     4\n",
       "month_map         12\n",
       "dtype: int64"
      ]
     },
     "execution_count": 88,
     "metadata": {},
     "output_type": "execute_result"
    }
   ],
   "source": [
    "cat_att.apply(lambda x: x.unique().shape[0])"
   ]
  },
  {
   "cell_type": "code",
   "execution_count": 94,
   "id": "2d1424ef",
   "metadata": {
    "ExecuteTime": {
     "end_time": "2021-05-10T10:57:43.734071Z",
     "start_time": "2021-05-10T10:57:43.392989Z"
    },
    "hidden": true
   },
   "outputs": [
    {
     "data": {
      "image/png": "[encoded data removed]",
      "text/plain": [
       "<Figure size 1800x864 with 3 Axes>"
      ]
     },
     "metadata": {},
     "output_type": "display_data"
    }
   ],
   "source": [
    "aux1 = df1[(df1['state_holiday'] != '0') & (df1['sales'] > 0)]\n",
    "plt.subplot(1, 3, 1)\n",
    "sns.boxplot(x = 'state_holiday', y = 'sales', data = aux1)\n",
    "plt.subplot(1, 3, 2)\n",
    "sns.boxplot(x = 'store_type', y = 'sales', data = aux1)\n",
    "plt.subplot(1, 3, 3)\n",
    "sns.boxplot(x = 'assortment', y = 'sales', data = aux1);"
   ]
  },
  {
   "cell_type": "markdown",
   "id": "4d09b7f3",
   "metadata": {},
   "source": [
    "# 2.0 FEATURE ENGINEERING"
   ]
  },
  {
   "cell_type": "code",
   "execution_count": 96,
   "id": "3de39a45",
   "metadata": {
    "ExecuteTime": {
     "end_time": "2021-05-10T12:47:36.571769Z",
     "start_time": "2021-05-10T12:47:36.515882Z"
    }
   },
   "outputs": [],
   "source": [
    "df2 = df1.copy()"
   ]
  },
  {
   "cell_type": "markdown",
   "id": "c410ad13",
   "metadata": {},
   "source": [
    "## 2.1 Mindmap Hyphotesis"
   ]
  },
  {
   "cell_type": "code",
   "execution_count": 95,
   "id": "7c9c4f69",
   "metadata": {
    "ExecuteTime": {
     "end_time": "2021-05-10T11:40:23.134270Z",
     "start_time": "2021-05-10T11:40:23.112308Z"
    }
   },
   "outputs": [
    {
     "data": {
      "image/png": "[encoded data removed]",
      "text/plain": [
       "<IPython.core.display.Image object>"
      ]
     },
     "execution_count": 95,
     "metadata": {},
     "output_type": "execute_result"
    }
   ],
   "source": [
    "Image('img/mental_map.png')"
   ]
  },
  {
   "cell_type": "markdown",
   "id": "1a3c9d27",
   "metadata": {
    "heading_collapsed": true
   },
   "source": [
    "## 2.2 Hyphotesis Creation"
   ]
  },
  {
   "cell_type": "markdown",
   "id": "bf1d150f",
   "metadata": {
    "hidden": true
   },
   "source": [
    "### 2.2.1 - Store's Hypothesis"
   ]
  },
  {
   "cell_type": "markdown",
   "id": "a9c8f182",
   "metadata": {
    "hidden": true
   },
   "source": [
    "**1.** Lojas com número maior de funcionários deveriam vender mais.\n",
    "\n",
    "**2.** Lojas com maior capacidade de estoque deveriam vender mais.\n",
    "\n",
    "**3.** Lojas com maior porte deveriam vender mais.\n",
    "\n",
    "**4.** Lojas com maior sortimento deveriam vender mais.\n",
    "\n",
    "**5.** Lojas com competidores mais próximos deveriam vender menos.\n",
    "\n",
    "**6.** Lojas com competidores a mais tempo deveriam vender mais."
   ]
  },
  {
   "cell_type": "markdown",
   "id": "ea2b009b",
   "metadata": {
    "hidden": true
   },
   "source": [
    "### 2.2.2 - Products's Hypothesis"
   ]
  },
  {
   "cell_type": "markdown",
   "id": "a0e5f316",
   "metadata": {
    "hidden": true
   },
   "source": [
    "**1.** Lojas que investem mais em marketing deveriam vender mais.\n",
    "\n",
    "**2.** Lojas com maior exposição de produtos deveriam vender mais.\n",
    "\n",
    "**3.** Lojas com produtos com preço menor deveriam vender mais.\n",
    "\n",
    "**4.** Lojas com promoções mais agressivas (descontos maiores) deveriam vender mais.\n",
    "\n",
    "**5.** Lojas com promoções ativas por mais tempo deveriam vender mais.\n",
    "\n",
    "**6.** Lojas com mais dias de promoção deveriam vender mais.\n",
    "\n",
    "**7.** Lojas com mais promoções consecutivas deveriam vender mais."
   ]
  },
  {
   "cell_type": "markdown",
   "id": "ba1d34e6",
   "metadata": {
    "hidden": true
   },
   "source": [
    "### 2.2.3 - Time's Hypothesis"
   ]
  },
  {
   "cell_type": "markdown",
   "id": "3d1903d5",
   "metadata": {
    "hidden": true
   },
   "source": [
    "**1.** Lojas abertas durante o feriado de Natal deveriam vender mais.\n",
    "\n",
    "**2.** Lojas deveriam vender mais ao longo dos anos.\n",
    "\n",
    "**3.** Lojas deveriam vender mais no segundo semestre do ano.\n",
    "\n",
    "**4.** Lojas deveriam vender mais depois do dia 10 de cada mês.\n",
    "\n",
    "**5.** Lojas deveriam vender menos aos finais de semana.\n",
    "\n",
    "**6.** Lojas deveriam vender menos durante os feriados escolares."
   ]
  },
  {
   "cell_type": "markdown",
   "id": "50bf3e66",
   "metadata": {},
   "source": [
    "## 2.3 Final List of Hyphotesis"
   ]
  },
  {
   "cell_type": "markdown",
   "id": "fb74cc0a",
   "metadata": {},
   "source": [
    "**1.** Lojas com maior sortimento deveriam vender mais.\n",
    "\n",
    "**2.** Lojas com competidores mais próximos deveriam vender menos.\n",
    "\n",
    "**3.** Lojas com competidores a mais tempo deveriam vender mais.\n",
    "\n",
    "**4.** Lojas com promoções ativas por mais tempo deveriam vender mais.\n",
    "\n",
    "**5.** Lojas com mais dias de promoção deveriam vender mais.\n",
    "\n",
    "**6.** Lojas com mais promoções consecutivas deveriam vender mais.\n",
    "\n",
    "**7.** Lojas abertas durante o feriado de Natal deveriam vender mais.\n",
    "\n",
    "**8.** Lojas deveriam vender mais ao longo dos anos.\n",
    "\n",
    "**9.** Lojas deveriam vender mais no segundo semestre do ano.\n",
    "\n",
    "**10.** Lojas deveriam vender mais depois do dia 10 de cada mês.\n",
    "\n",
    "**11.** Lojas deveriam vender menos aos finais de semana.\n",
    "\n",
    "**12.** Lojas deveriam vender menos durante os feriados escolares."
   ]
  },
  {
   "cell_type": "markdown",
   "id": "39a86833",
   "metadata": {},
   "source": [
    "## 2.4 Feature Engineering"
   ]
  },
  {
   "cell_type": "code",
   "execution_count": 101,
   "id": "c073936d",
   "metadata": {
    "ExecuteTime": {
     "end_time": "2021-05-10T13:10:04.016106Z",
     "start_time": "2021-05-10T13:09:22.492084Z"
    }
   },
   "outputs": [],
   "source": [
    "# year\n",
    "\n",
    "df2['year'] = df2['date'].dt.year\n",
    "\n",
    "# month\n",
    "\n",
    "df2['month'] = df2['date'].dt.month\n",
    "\n",
    "# day\n",
    "\n",
    "df2['day'] = df2['date'].dt.day\n",
    "\n",
    "# week_of_year\n",
    "\n",
    "df2['week_of_year'] = df2['date'].dt.weekofyear\n",
    "\n",
    "# year_week\n",
    "\n",
    "df2['week_of_year'] = df2['date'].dt.strftime('%Y-%W')\n",
    "\n",
    "# competition_since\n",
    "\n",
    "df2['competition_since'] = df2.apply(lambda x: datetime.datetime(year = x['competition_open_since_year'], month = x['competition_open_since_month'], day = 1), axis = 1)\n",
    "df2['competition_time_month'] = ((df2['date'] - df2['competition_since']) / 30).apply(lambda x: x.days).astype(int)\n",
    "\n",
    "# promo_since\n",
    "\n",
    "df2['promo_since'] = df2['promo2_since_year'].astype(str) + '-' + df2['promo2_since_week'].astype(str)\n",
    "df2['promo_since'] = df2['promo_since'].apply(lambda x: datetime.datetime.strptime(x + '-1', '%Y-%W-%w') - datetime.timedelta(days = 7))\n",
    "df2['promo_time_week'] = ((df2['date'] - df2['promo_since']) / 7).apply(lambda x: x.days).astype(int)\n",
    "\n",
    "# assortment\n",
    "\n",
    "df2['assortment'] = df2['assortment'].apply(lambda x: 'basic' if x == 'a' else 'extra' if x == 'b' else 'extended')\n",
    "\n",
    "# state_holiday\n",
    "\n",
    "df2['state_holiday'] = df2['state_holiday'].apply(lambda x: 'public_holiday' if x == 'a' else 'easter_holiday' if x == 'b' else 'christmas' if x == 'c' else 'regular_day')"
   ]
  },
  {
   "cell_type": "code",
   "execution_count": 102,
   "id": "43313687",
   "metadata": {
    "ExecuteTime": {
     "end_time": "2021-05-10T13:10:04.032065Z",
     "start_time": "2021-05-10T13:10:04.017139Z"
    }
   },
   "outputs": [
    {
     "data": {
      "text/html": [
       "<div>\n",
       "<style scoped>\n",
       "    .dataframe tbody tr th:only-of-type {\n",
       "        vertical-align: middle;\n",
       "    }\n",
       "\n",
       "    .dataframe tbody tr th {\n",
       "        vertical-align: top;\n",
       "    }\n",
       "\n",
       "    .dataframe thead th {\n",
       "        text-align: right;\n",
       "    }\n",
       "</style>\n",
       "<table border=\"1\" class=\"dataframe\">\n",
       "  <thead>\n",
       "    <tr style=\"text-align: right;\">\n",
       "      <th></th>\n",
       "      <th>0</th>\n",
       "      <th>1</th>\n",
       "      <th>2</th>\n",
       "      <th>3</th>\n",
       "      <th>4</th>\n",
       "    </tr>\n",
       "  </thead>\n",
       "  <tbody>\n",
       "    <tr>\n",
       "      <th>store</th>\n",
       "      <td>1</td>\n",
       "      <td>2</td>\n",
       "      <td>3</td>\n",
       "      <td>4</td>\n",
       "      <td>5</td>\n",
       "    </tr>\n",
       "    <tr>\n",
       "      <th>day_of_week</th>\n",
       "      <td>5</td>\n",
       "      <td>5</td>\n",
       "      <td>5</td>\n",
       "      <td>5</td>\n",
       "      <td>5</td>\n",
       "    </tr>\n",
       "    <tr>\n",
       "      <th>date</th>\n",
       "      <td>2015-07-31 00:00:00</td>\n",
       "      <td>2015-07-31 00:00:00</td>\n",
       "      <td>2015-07-31 00:00:00</td>\n",
       "      <td>2015-07-31 00:00:00</td>\n",
       "      <td>2015-07-31 00:00:00</td>\n",
       "    </tr>\n",
       "    <tr>\n",
       "      <th>sales</th>\n",
       "      <td>5263</td>\n",
       "      <td>6064</td>\n",
       "      <td>8314</td>\n",
       "      <td>13995</td>\n",
       "      <td>4822</td>\n",
       "    </tr>\n",
       "    <tr>\n",
       "      <th>customers</th>\n",
       "      <td>555</td>\n",
       "      <td>625</td>\n",
       "      <td>821</td>\n",
       "      <td>1498</td>\n",
       "      <td>559</td>\n",
       "    </tr>\n",
       "    <tr>\n",
       "      <th>open</th>\n",
       "      <td>1</td>\n",
       "      <td>1</td>\n",
       "      <td>1</td>\n",
       "      <td>1</td>\n",
       "      <td>1</td>\n",
       "    </tr>\n",
       "    <tr>\n",
       "      <th>promo</th>\n",
       "      <td>1</td>\n",
       "      <td>1</td>\n",
       "      <td>1</td>\n",
       "      <td>1</td>\n",
       "      <td>1</td>\n",
       "    </tr>\n",
       "    <tr>\n",
       "      <th>state_holiday</th>\n",
       "      <td>regular_day</td>\n",
       "      <td>regular_day</td>\n",
       "      <td>regular_day</td>\n",
       "      <td>regular_day</td>\n",
       "      <td>regular_day</td>\n",
       "    </tr>\n",
       "    <tr>\n",
       "      <th>school_holiday</th>\n",
       "      <td>1</td>\n",
       "      <td>1</td>\n",
       "      <td>1</td>\n",
       "      <td>1</td>\n",
       "      <td>1</td>\n",
       "    </tr>\n",
       "    <tr>\n",
       "      <th>store_type</th>\n",
       "      <td>c</td>\n",
       "      <td>a</td>\n",
       "      <td>a</td>\n",
       "      <td>c</td>\n",
       "      <td>a</td>\n",
       "    </tr>\n",
       "    <tr>\n",
       "      <th>assortment</th>\n",
       "      <td>extended</td>\n",
       "      <td>extended</td>\n",
       "      <td>extended</td>\n",
       "      <td>extended</td>\n",
       "      <td>extended</td>\n",
       "    </tr>\n",
       "    <tr>\n",
       "      <th>competition_distance</th>\n",
       "      <td>1270.0</td>\n",
       "      <td>570.0</td>\n",
       "      <td>14130.0</td>\n",
       "      <td>620.0</td>\n",
       "      <td>29910.0</td>\n",
       "    </tr>\n",
       "    <tr>\n",
       "      <th>competition_open_since_month</th>\n",
       "      <td>9</td>\n",
       "      <td>11</td>\n",
       "      <td>12</td>\n",
       "      <td>9</td>\n",
       "      <td>4</td>\n",
       "    </tr>\n",
       "    <tr>\n",
       "      <th>competition_open_since_year</th>\n",
       "      <td>2008</td>\n",
       "      <td>2007</td>\n",
       "      <td>2006</td>\n",
       "      <td>2009</td>\n",
       "      <td>2015</td>\n",
       "    </tr>\n",
       "    <tr>\n",
       "      <th>promo2</th>\n",
       "      <td>0</td>\n",
       "      <td>1</td>\n",
       "      <td>1</td>\n",
       "      <td>0</td>\n",
       "      <td>0</td>\n",
       "    </tr>\n",
       "    <tr>\n",
       "      <th>promo2_since_week</th>\n",
       "      <td>31</td>\n",
       "      <td>13</td>\n",
       "      <td>14</td>\n",
       "      <td>31</td>\n",
       "      <td>31</td>\n",
       "    </tr>\n",
       "    <tr>\n",
       "      <th>promo2_since_year</th>\n",
       "      <td>2015</td>\n",
       "      <td>2010</td>\n",
       "      <td>2011</td>\n",
       "      <td>2015</td>\n",
       "      <td>2015</td>\n",
       "    </tr>\n",
       "    <tr>\n",
       "      <th>promo_interval</th>\n",
       "      <td>0</td>\n",
       "      <td>Jan,Apr,Jul,Oct</td>\n",
       "      <td>Jan,Apr,Jul,Oct</td>\n",
       "      <td>0</td>\n",
       "      <td>0</td>\n",
       "    </tr>\n",
       "    <tr>\n",
       "      <th>month_map</th>\n",
       "      <td>Jul</td>\n",
       "      <td>Jul</td>\n",
       "      <td>Jul</td>\n",
       "      <td>Jul</td>\n",
       "      <td>Jul</td>\n",
       "    </tr>\n",
       "    <tr>\n",
       "      <th>is_promo</th>\n",
       "      <td>0</td>\n",
       "      <td>1</td>\n",
       "      <td>1</td>\n",
       "      <td>0</td>\n",
       "      <td>0</td>\n",
       "    </tr>\n",
       "    <tr>\n",
       "      <th>year</th>\n",
       "      <td>2015</td>\n",
       "      <td>2015</td>\n",
       "      <td>2015</td>\n",
       "      <td>2015</td>\n",
       "      <td>2015</td>\n",
       "    </tr>\n",
       "    <tr>\n",
       "      <th>month</th>\n",
       "      <td>7</td>\n",
       "      <td>7</td>\n",
       "      <td>7</td>\n",
       "      <td>7</td>\n",
       "      <td>7</td>\n",
       "    </tr>\n",
       "    <tr>\n",
       "      <th>day</th>\n",
       "      <td>31</td>\n",
       "      <td>31</td>\n",
       "      <td>31</td>\n",
       "      <td>31</td>\n",
       "      <td>31</td>\n",
       "    </tr>\n",
       "    <tr>\n",
       "      <th>week_of_year</th>\n",
       "      <td>2015-30</td>\n",
       "      <td>2015-30</td>\n",
       "      <td>2015-30</td>\n",
       "      <td>2015-30</td>\n",
       "      <td>2015-30</td>\n",
       "    </tr>\n",
       "    <tr>\n",
       "      <th>competition_since</th>\n",
       "      <td>2008-09-01 00:00:00</td>\n",
       "      <td>2007-11-01 00:00:00</td>\n",
       "      <td>2006-12-01 00:00:00</td>\n",
       "      <td>2009-09-01 00:00:00</td>\n",
       "      <td>2015-04-01 00:00:00</td>\n",
       "    </tr>\n",
       "    <tr>\n",
       "      <th>competition_time_month</th>\n",
       "      <td>84</td>\n",
       "      <td>94</td>\n",
       "      <td>105</td>\n",
       "      <td>71</td>\n",
       "      <td>4</td>\n",
       "    </tr>\n",
       "    <tr>\n",
       "      <th>promo_since</th>\n",
       "      <td>2015-07-27 00:00:00</td>\n",
       "      <td>2010-03-22 00:00:00</td>\n",
       "      <td>2011-03-28 00:00:00</td>\n",
       "      <td>2015-07-27 00:00:00</td>\n",
       "      <td>2015-07-27 00:00:00</td>\n",
       "    </tr>\n",
       "    <tr>\n",
       "      <th>promo_time_week</th>\n",
       "      <td>0</td>\n",
       "      <td>279</td>\n",
       "      <td>226</td>\n",
       "      <td>0</td>\n",
       "      <td>0</td>\n",
       "    </tr>\n",
       "  </tbody>\n",
       "</table>\n",
       "</div>"
      ],
      "text/plain": [
       "                                                0                    1                    2                    3                    4\n",
       "store                                           1                    2                    3                    4                    5\n",
       "day_of_week                                     5                    5                    5                    5                    5\n",
       "date                          2015-07-31 00:00:00  2015-07-31 00:00:00  2015-07-31 00:00:00  2015-07-31 00:00:00  2015-07-31 00:00:00\n",
       "sales                                        5263                 6064                 8314                13995                 4822\n",
       "customers                                     555                  625                  821                 1498                  559\n",
       "open                                            1                    1                    1                    1                    1\n",
       "promo                                           1                    1                    1                    1                    1\n",
       "state_holiday                         regular_day          regular_day          regular_day          regular_day          regular_day\n",
       "school_holiday                                  1                    1                    1                    1                    1\n",
       "store_type                                      c                    a                    a                    c                    a\n",
       "assortment                               extended             extended             extended             extended             extended\n",
       "competition_distance                       1270.0                570.0              14130.0                620.0              29910.0\n",
       "competition_open_since_month                    9                   11                   12                    9                    4\n",
       "competition_open_since_year                  2008                 2007                 2006                 2009                 2015\n",
       "promo2                                          0                    1                    1                    0                    0\n",
       "promo2_since_week                              31                   13                   14                   31                   31\n",
       "promo2_since_year                            2015                 2010                 2011                 2015                 2015\n",
       "promo_interval                                  0      Jan,Apr,Jul,Oct      Jan,Apr,Jul,Oct                    0                    0\n",
       "month_map                                     Jul                  Jul                  Jul                  Jul                  Jul\n",
       "is_promo                                        0                    1                    1                    0                    0\n",
       "year                                         2015                 2015                 2015                 2015                 2015\n",
       "month                                           7                    7                    7                    7                    7\n",
       "day                                            31                   31                   31                   31                   31\n",
       "week_of_year                              2015-30              2015-30              2015-30              2015-30              2015-30\n",
       "competition_since             2008-09-01 00:00:00  2007-11-01 00:00:00  2006-12-01 00:00:00  2009-09-01 00:00:00  2015-04-01 00:00:00\n",
       "competition_time_month                         84                   94                  105                   71                    4\n",
       "promo_since                   2015-07-27 00:00:00  2010-03-22 00:00:00  2011-03-28 00:00:00  2015-07-27 00:00:00  2015-07-27 00:00:00\n",
       "promo_time_week                                 0                  279                  226                    0                    0"
      ]
     },
     "execution_count": 102,
     "metadata": {},
     "output_type": "execute_result"
    }
   ],
   "source": [
    "df2.head().T"
   ]
  },
  {
   "cell_type": "code",
   "execution_count": null,
   "id": "509eedbe",
   "metadata": {},
   "outputs": [],
   "source": []
  },
  {
   "cell_type": "code",
   "execution_count": null,
   "id": "32b9d0da",
   "metadata": {},
   "outputs": [],
   "source": []
  },
  {
   "cell_type": "code",
   "execution_count": null,
   "id": "c66c53e8",
   "metadata": {},
   "outputs": [],
   "source": []
  },
  {
   "cell_type": "code",
   "execution_count": null,
   "id": "b11583d2",
   "metadata": {},
   "outputs": [],
   "source": []
  },
  {
   "cell_type": "code",
   "execution_count": null,
   "id": "d80830b4",
   "metadata": {},
   "outputs": [],
   "source": []
  },
  {
   "cell_type": "code",
   "execution_count": null,
   "id": "9c3526ae",
   "metadata": {},
   "outputs": [],
   "source": []
  },
  {
   "cell_type": "code",
   "execution_count": null,
   "id": "59c8edac",
   "metadata": {},
   "outputs": [],
   "source": []
  },
  {
   "cell_type": "markdown",
   "id": "c27bfff6",
   "metadata": {},
   "source": [
    "# 0.0 IMPORTS"
   ]
  },
  {
   "cell_type": "code",
   "execution_count": null,
   "id": "ba79d949",
   "metadata": {},
   "outputs": [],
   "source": []
  }
 ],
 "metadata": {
  "kernelspec": {
   "display_name": "Python 3",
   "language": "python",
   "name": "python3"
  },
  "language_info": {
   "codemirror_mode": {
    "name": "ipython",
    "version": 3
   },
   "file_extension": ".py",
   "mimetype": "text/x-python",
   "name": "python",
   "nbconvert_exporter": "python",
   "pygments_lexer": "ipython3",
   "version": "3.8.8"
  }
 },
 "nbformat": 4,
 "nbformat_minor": 5
}
